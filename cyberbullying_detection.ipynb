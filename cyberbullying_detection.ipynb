{
  "cells": [
    {
      "cell_type": "code",
      "execution_count": null,
      "id": "07fe45c2",
      "metadata": {
        "execution": {
          "iopub.execute_input": "2022-04-17T02:57:29.473393Z",
          "iopub.status.busy": "2022-04-17T02:57:29.472695Z",
          "iopub.status.idle": "2022-04-17T02:57:40.007068Z",
          "shell.execute_reply": "2022-04-17T02:57:40.006496Z",
          "shell.execute_reply.started": "2022-04-16T09:37:24.626775Z"
        },
        "papermill": {
          "duration": 10.597543,
          "end_time": "2022-04-17T02:57:40.007244",
          "exception": false,
          "start_time": "2022-04-17T02:57:29.409701",
          "status": "completed"
        },
        "tags": [],
        "colab": {
          "base_uri": "https://localhost:8080/"
        },
        "id": "07fe45c2",
        "outputId": "6e2397ae-bc96-431a-c549-46b3552716df"
      },
      "outputs": [
        {
          "output_type": "stream",
          "name": "stdout",
          "text": [
            "Collecting demoji\n",
            "  Downloading demoji-1.1.0-py3-none-any.whl (42 kB)\n",
            "\u001b[2K     \u001b[90m━━━━━━━━━━━━━━━━━━━━━━━━━━━━━━━━━━━━━━━━\u001b[0m \u001b[32m42.9/42.9 kB\u001b[0m \u001b[31m782.4 kB/s\u001b[0m eta \u001b[36m0:00:00\u001b[0m\n",
            "\u001b[?25hInstalling collected packages: demoji\n",
            "Successfully installed demoji-1.1.0\n",
            "Requirement already satisfied: plotly in /usr/local/lib/python3.10/dist-packages (5.15.0)\n",
            "Requirement already satisfied: tenacity>=6.2.0 in /usr/local/lib/python3.10/dist-packages (from plotly) (8.2.3)\n",
            "Requirement already satisfied: packaging in /usr/local/lib/python3.10/dist-packages (from plotly) (23.2)\n"
          ]
        }
      ],
      "source": [
        "!pip install demoji\n",
        "!pip install plotly"
      ]
    },
    {
      "cell_type": "code",
      "execution_count": null,
      "id": "57f2b8bb",
      "metadata": {
        "execution": {
          "iopub.execute_input": "2022-04-17T02:57:26.415722Z",
          "iopub.status.busy": "2022-04-17T02:57:26.413915Z",
          "iopub.status.idle": "2022-04-17T02:57:28.552033Z",
          "shell.execute_reply": "2022-04-17T02:57:28.551182Z",
          "shell.execute_reply.started": "2022-04-16T09:37:22.070261Z"
        },
        "papermill": {
          "duration": 2.200564,
          "end_time": "2022-04-17T02:57:28.552202",
          "exception": false,
          "start_time": "2022-04-17T02:57:26.351638",
          "status": "completed"
        },
        "tags": [],
        "id": "57f2b8bb"
      },
      "outputs": [],
      "source": [
        "# Importing the libraries\n",
        "import numpy as np\n",
        "import pandas as pd\n",
        "import matplotlib.pyplot as plt\n",
        "import seaborn as sns\n",
        "import plotly.express as px"
      ]
    },
    {
      "cell_type": "code",
      "execution_count": null,
      "id": "4130fa09",
      "metadata": {
        "execution": {
          "iopub.execute_input": "2022-04-17T02:57:28.674184Z",
          "iopub.status.busy": "2022-04-17T02:57:28.673478Z",
          "iopub.status.idle": "2022-04-17T02:57:28.936920Z",
          "shell.execute_reply": "2022-04-17T02:57:28.937417Z",
          "shell.execute_reply.started": "2022-04-16T09:37:24.344704Z"
        },
        "papermill": {
          "duration": 0.326925,
          "end_time": "2022-04-17T02:57:28.937601",
          "exception": false,
          "start_time": "2022-04-17T02:57:28.610676",
          "status": "completed"
        },
        "tags": [],
        "id": "4130fa09"
      },
      "outputs": [],
      "source": [
        "df = pd.read_csv('cyberbullying_tweets.csv')  # Importing the dataset"
      ]
    },
    {
      "cell_type": "code",
      "execution_count": null,
      "id": "65cf8cc7",
      "metadata": {
        "execution": {
          "iopub.execute_input": "2022-04-17T02:57:29.176990Z",
          "iopub.status.busy": "2022-04-17T02:57:29.176367Z",
          "iopub.status.idle": "2022-04-17T02:57:29.192915Z",
          "shell.execute_reply": "2022-04-17T02:57:29.193427Z",
          "shell.execute_reply.started": "2022-04-16T09:37:24.56497Z"
        },
        "papermill": {
          "duration": 0.080126,
          "end_time": "2022-04-17T02:57:29.193612",
          "exception": false,
          "start_time": "2022-04-17T02:57:29.113486",
          "status": "completed"
        },
        "tags": [],
        "id": "65cf8cc7"
      },
      "outputs": [],
      "source": [
        "df.head()"
      ]
    },
    {
      "cell_type": "code",
      "execution_count": null,
      "id": "64a976bd",
      "metadata": {
        "execution": {
          "iopub.execute_input": "2022-04-17T02:57:29.317015Z",
          "iopub.status.busy": "2022-04-17T02:57:29.316385Z",
          "iopub.status.idle": "2022-04-17T02:57:29.348837Z",
          "shell.execute_reply": "2022-04-17T02:57:29.349891Z",
          "shell.execute_reply.started": "2022-04-16T09:37:24.585845Z"
        },
        "papermill": {
          "duration": 0.0952,
          "end_time": "2022-04-17T02:57:29.350077",
          "exception": false,
          "start_time": "2022-04-17T02:57:29.254877",
          "status": "completed"
        },
        "tags": [],
        "id": "64a976bd"
      },
      "outputs": [],
      "source": [
        "df.info()"
      ]
    },
    {
      "cell_type": "markdown",
      "id": "56558149",
      "metadata": {
        "papermill": {
          "duration": 0.061169,
          "end_time": "2022-04-17T02:57:40.131897",
          "exception": false,
          "start_time": "2022-04-17T02:57:40.070728",
          "status": "completed"
        },
        "tags": [],
        "id": "56558149"
      },
      "source": [
        "## Data Preprocessing"
      ]
    },
    {
      "cell_type": "code",
      "execution_count": null,
      "id": "5b2423a1",
      "metadata": {
        "execution": {
          "iopub.execute_input": "2022-04-17T02:57:40.261128Z",
          "iopub.status.busy": "2022-04-17T02:57:40.260506Z",
          "iopub.status.idle": "2022-04-17T02:57:41.012618Z",
          "shell.execute_reply": "2022-04-17T02:57:41.011910Z",
          "shell.execute_reply.started": "2022-04-16T09:37:35.246465Z"
        },
        "papermill": {
          "duration": 0.819902,
          "end_time": "2022-04-17T02:57:41.012762",
          "exception": false,
          "start_time": "2022-04-17T02:57:40.192860",
          "status": "completed"
        },
        "tags": [],
        "id": "5b2423a1"
      },
      "outputs": [],
      "source": [
        "import re\n",
        "from nltk.corpus import stopwords\n",
        "from nltk.stem.snowball import SnowballStemmer\n",
        "import demoji\n",
        "import string"
      ]
    },
    {
      "cell_type": "code",
      "execution_count": null,
      "id": "2aaf5813",
      "metadata": {
        "_kg_hide-input": true,
        "execution": {
          "iopub.execute_input": "2022-04-17T02:57:41.140993Z",
          "iopub.status.busy": "2022-04-17T02:57:41.140347Z",
          "iopub.status.idle": "2022-04-17T02:57:41.142107Z",
          "shell.execute_reply": "2022-04-17T02:57:41.142612Z",
          "shell.execute_reply.started": "2022-04-16T09:37:36.096076Z"
        },
        "papermill": {
          "duration": 0.068117,
          "end_time": "2022-04-17T02:57:41.142774",
          "exception": false,
          "start_time": "2022-04-17T02:57:41.074657",
          "status": "completed"
        },
        "tags": [],
        "id": "2aaf5813"
      },
      "outputs": [],
      "source": [
        "import warnings\n",
        "warnings.filterwarnings(\"ignore\")\n",
        "from warnings import simplefilter\n",
        "from sklearn.exceptions import ConvergenceWarning\n",
        "simplefilter(\"ignore\", category=ConvergenceWarning)"
      ]
    },
    {
      "cell_type": "code",
      "source": [
        "import nltk\n",
        "nltk.download('stopwords')"
      ],
      "metadata": {
        "id": "fmK-iWB72Orw"
      },
      "id": "fmK-iWB72Orw",
      "execution_count": null,
      "outputs": []
    },
    {
      "cell_type": "code",
      "execution_count": null,
      "id": "c6464437",
      "metadata": {
        "execution": {
          "iopub.execute_input": "2022-04-17T02:57:41.267692Z",
          "iopub.status.busy": "2022-04-17T02:57:41.267022Z",
          "iopub.status.idle": "2022-04-17T02:57:41.283010Z",
          "shell.execute_reply": "2022-04-17T02:57:41.282452Z",
          "shell.execute_reply.started": "2022-04-16T09:37:36.102909Z"
        },
        "papermill": {
          "duration": 0.079831,
          "end_time": "2022-04-17T02:57:41.283148",
          "exception": false,
          "start_time": "2022-04-17T02:57:41.203317",
          "status": "completed"
        },
        "tags": [],
        "id": "c6464437"
      },
      "outputs": [],
      "source": [
        "STOPWORDS = set(stopwords.words('english'))\n",
        "STOPWORDS.update(['rt', 'mkr', 'didn', 'bc', 'n', 'm',\n",
        "                  'im', 'll', 'y', 've', 'u', 'ur', 'don',\n",
        "                  'p', 't', 's', 'aren', 'kp', 'o', 'kat',\n",
        "                  'de', 're', 'amp', 'will', 'wa', 'e', 'like'])\n",
        "stemmer = SnowballStemmer('english')\n",
        "def clean_text(text):\n",
        "\n",
        "    # Remove Hashtag, Mention, URLs\n",
        "    pattern = re.compile(r\"(#[A-Za-z0-9]+|@[A-Za-z0-9]+|https?://\\S+|www\\.\\S+|\\S+\\.[a-z]+|RT @)\")\n",
        "    text = pattern.sub('', text)\n",
        "    text = \" \".join(text.split())\n",
        "\n",
        "    # Make all text lowercase\n",
        "    text = text.lower()\n",
        "\n",
        "    # Stemming\n",
        "    text = \" \".join([stemmer.stem(word) for word in text.split()])\n",
        "\n",
        "    # Removing Punctuations\n",
        "    remove_punc = re.compile(r\"[%s]\" % re.escape(string.punctuation))\n",
        "    text = remove_punc.sub('', text)\n",
        "\n",
        "    # Removing stopwords\n",
        "    text = \" \".join([word for word in str(text).split() if word not in STOPWORDS])\n",
        "\n",
        "    # Taking care of emojis\n",
        "    emoji = demoji.findall(text)\n",
        "    for emot in emoji:\n",
        "        text = re.sub(r\"(%s)\" % (emot), \"_\".join(emoji[emot].split()), text)\n",
        "\n",
        "    return text"
      ]
    },
    {
      "cell_type": "code",
      "execution_count": null,
      "id": "9cede729",
      "metadata": {
        "execution": {
          "iopub.execute_input": "2022-04-17T02:57:41.416449Z",
          "iopub.status.busy": "2022-04-17T02:57:41.415787Z",
          "iopub.status.idle": "2022-04-17T02:58:22.321355Z",
          "shell.execute_reply": "2022-04-17T02:58:22.321899Z",
          "shell.execute_reply.started": "2022-04-16T09:37:36.12402Z"
        },
        "papermill": {
          "duration": 40.977666,
          "end_time": "2022-04-17T02:58:22.322090",
          "exception": false,
          "start_time": "2022-04-17T02:57:41.344424",
          "status": "completed"
        },
        "tags": [],
        "id": "9cede729"
      },
      "outputs": [],
      "source": [
        "df['cleaned_text'] = df['tweet_text'].apply(lambda text: clean_text(text))  # Applying the cleaning to the text data"
      ]
    },
    {
      "cell_type": "code",
      "execution_count": null,
      "id": "89d8fcb4",
      "metadata": {
        "execution": {
          "iopub.execute_input": "2022-04-17T02:58:22.446798Z",
          "iopub.status.busy": "2022-04-17T02:58:22.446107Z",
          "iopub.status.idle": "2022-04-17T02:58:22.455076Z",
          "shell.execute_reply": "2022-04-17T02:58:22.455674Z",
          "shell.execute_reply.started": "2022-04-16T09:38:12.849851Z"
        },
        "papermill": {
          "duration": 0.0731,
          "end_time": "2022-04-17T02:58:22.455836",
          "exception": false,
          "start_time": "2022-04-17T02:58:22.382736",
          "status": "completed"
        },
        "tags": [],
        "id": "89d8fcb4"
      },
      "outputs": [],
      "source": [
        "df.head()"
      ]
    },
    {
      "cell_type": "code",
      "execution_count": null,
      "id": "4e7af9f3",
      "metadata": {
        "execution": {
          "iopub.execute_input": "2022-04-17T02:58:22.581956Z",
          "iopub.status.busy": "2022-04-17T02:58:22.581337Z",
          "iopub.status.idle": "2022-04-17T02:58:22.605193Z",
          "shell.execute_reply": "2022-04-17T02:58:22.605724Z",
          "shell.execute_reply.started": "2022-04-16T09:38:12.861079Z"
        },
        "papermill": {
          "duration": 0.088864,
          "end_time": "2022-04-17T02:58:22.605899",
          "exception": false,
          "start_time": "2022-04-17T02:58:22.517035",
          "status": "completed"
        },
        "tags": [],
        "id": "4e7af9f3"
      },
      "outputs": [],
      "source": [
        "df.isnull().sum()  # Checking for missing values"
      ]
    },
    {
      "cell_type": "code",
      "execution_count": null,
      "id": "28b8c697",
      "metadata": {
        "execution": {
          "iopub.execute_input": "2022-04-17T02:58:22.745470Z",
          "iopub.status.busy": "2022-04-17T02:58:22.744783Z",
          "iopub.status.idle": "2022-04-17T02:58:22.748604Z",
          "shell.execute_reply": "2022-04-17T02:58:22.747997Z",
          "shell.execute_reply.started": "2022-04-16T09:38:12.884223Z"
        },
        "papermill": {
          "duration": 0.081335,
          "end_time": "2022-04-17T02:58:22.748755",
          "exception": false,
          "start_time": "2022-04-17T02:58:22.667420",
          "status": "completed"
        },
        "tags": [],
        "id": "28b8c697"
      },
      "outputs": [],
      "source": [
        "df['cleaned_text'].duplicated().sum() # Checking for duplicate values"
      ]
    },
    {
      "cell_type": "code",
      "execution_count": null,
      "id": "2353a841",
      "metadata": {
        "execution": {
          "iopub.execute_input": "2022-04-17T02:58:22.879567Z",
          "iopub.status.busy": "2022-04-17T02:58:22.878873Z",
          "iopub.status.idle": "2022-04-17T02:58:22.913136Z",
          "shell.execute_reply": "2022-04-17T02:58:22.912571Z",
          "shell.execute_reply.started": "2022-04-16T09:38:12.906193Z"
        },
        "papermill": {
          "duration": 0.101405,
          "end_time": "2022-04-17T02:58:22.913332",
          "exception": false,
          "start_time": "2022-04-17T02:58:22.811927",
          "status": "completed"
        },
        "tags": [],
        "id": "2353a841"
      },
      "outputs": [],
      "source": [
        "df.drop_duplicates(\"cleaned_text\", inplace = True)"
      ]
    },
    {
      "cell_type": "code",
      "execution_count": null,
      "id": "994ed32e",
      "metadata": {
        "execution": {
          "iopub.execute_input": "2022-04-17T02:58:23.042778Z",
          "iopub.status.busy": "2022-04-17T02:58:23.042082Z",
          "iopub.status.idle": "2022-04-17T02:58:23.068101Z",
          "shell.execute_reply": "2022-04-17T02:58:23.068628Z",
          "shell.execute_reply.started": "2022-04-16T09:38:12.948054Z"
        },
        "papermill": {
          "duration": 0.092737,
          "end_time": "2022-04-17T02:58:23.068800",
          "exception": false,
          "start_time": "2022-04-17T02:58:22.976063",
          "status": "completed"
        },
        "tags": [],
        "id": "994ed32e"
      },
      "outputs": [],
      "source": [
        "df['cleaned_text'].str.isspace().sum()     # Checking for tweets with only whitespaces"
      ]
    },
    {
      "cell_type": "code",
      "execution_count": null,
      "id": "83338bbb",
      "metadata": {
        "execution": {
          "iopub.execute_input": "2022-04-17T02:58:23.197415Z",
          "iopub.status.busy": "2022-04-17T02:58:23.196731Z",
          "iopub.status.idle": "2022-04-17T02:58:23.210435Z",
          "shell.execute_reply": "2022-04-17T02:58:23.210904Z",
          "shell.execute_reply.started": "2022-04-16T09:38:12.968236Z"
        },
        "papermill": {
          "duration": 0.079249,
          "end_time": "2022-04-17T02:58:23.211075",
          "exception": false,
          "start_time": "2022-04-17T02:58:23.131826",
          "status": "completed"
        },
        "tags": [],
        "id": "83338bbb"
      },
      "outputs": [],
      "source": [
        "df = df[df[\"cyberbullying_type\"]!=\"other_cyberbullying\"]"
      ]
    },
    {
      "cell_type": "code",
      "execution_count": null,
      "id": "ed87cbfb",
      "metadata": {
        "execution": {
          "iopub.execute_input": "2022-04-17T02:58:23.346528Z",
          "iopub.status.busy": "2022-04-17T02:58:23.345914Z",
          "iopub.status.idle": "2022-04-17T02:58:23.350989Z",
          "shell.execute_reply": "2022-04-17T02:58:23.351453Z",
          "shell.execute_reply.started": "2022-04-16T09:38:12.979555Z"
        },
        "papermill": {
          "duration": 0.077854,
          "end_time": "2022-04-17T02:58:23.351615",
          "exception": false,
          "start_time": "2022-04-17T02:58:23.273761",
          "status": "completed"
        },
        "tags": [],
        "id": "ed87cbfb"
      },
      "outputs": [],
      "source": [
        "df['cyberbullying_type'].value_counts()"
      ]
    },
    {
      "cell_type": "code",
      "execution_count": null,
      "id": "8e76dd68",
      "metadata": {
        "execution": {
          "iopub.execute_input": "2022-04-17T02:58:23.486063Z",
          "iopub.status.busy": "2022-04-17T02:58:23.485416Z",
          "iopub.status.idle": "2022-04-17T02:58:23.765830Z",
          "shell.execute_reply": "2022-04-17T02:58:23.766270Z",
          "shell.execute_reply.started": "2022-04-16T09:38:12.994501Z"
        },
        "papermill": {
          "duration": 0.351987,
          "end_time": "2022-04-17T02:58:23.766438",
          "exception": false,
          "start_time": "2022-04-17T02:58:23.414451",
          "status": "completed"
        },
        "tags": [],
        "id": "8e76dd68"
      },
      "outputs": [],
      "source": [
        "sns.countplot(data = df, x = 'cyberbullying_type')"
      ]
    },
    {
      "cell_type": "code",
      "execution_count": null,
      "id": "0f31edb3",
      "metadata": {
        "execution": {
          "iopub.execute_input": "2022-04-17T02:58:24.027759Z",
          "iopub.status.busy": "2022-04-17T02:58:24.027110Z",
          "iopub.status.idle": "2022-04-17T02:58:26.950757Z",
          "shell.execute_reply": "2022-04-17T02:58:26.950058Z",
          "shell.execute_reply.started": "2022-04-16T09:38:13.265566Z"
        },
        "papermill": {
          "duration": 2.991129,
          "end_time": "2022-04-17T02:58:26.950893",
          "exception": false,
          "start_time": "2022-04-17T02:58:23.959764",
          "status": "completed"
        },
        "scrolled": true,
        "tags": [],
        "id": "0f31edb3"
      },
      "outputs": [],
      "source": [
        "# Plotting the top 15 words of each cyberbullying type\n",
        "for cyber_type in df.cyberbullying_type.unique():\n",
        "\n",
        "    top50_word = df.cleaned_text[df.cyberbullying_type==cyber_type].str.split(expand=True).stack().value_counts()[:15]\n",
        "\n",
        "    fig = px.bar(top50_word, color=top50_word.values, color_continuous_scale=px.colors.sequential.RdPu, custom_data=[top50_word.values])\n",
        "    fig.update_traces(marker_color='red')\n",
        "    fig.update_traces(hovertemplate='<b>Count: </b>%{customdata[0]}')\n",
        "    fig.update_layout(title=f\"Top 15 words for {cyber_type}\",\n",
        "                     template='simple_white',\n",
        "                     hovermode='x unified')\n",
        "    fig.show()"
      ]
    },
    {
      "cell_type": "code",
      "execution_count": null,
      "id": "2aedf9da",
      "metadata": {
        "execution": {
          "iopub.execute_input": "2022-04-17T02:58:27.093112Z",
          "iopub.status.busy": "2022-04-17T02:58:27.092452Z",
          "iopub.status.idle": "2022-04-17T02:58:27.094862Z",
          "shell.execute_reply": "2022-04-17T02:58:27.094294Z",
          "shell.execute_reply.started": "2022-04-16T09:38:15.79228Z"
        },
        "papermill": {
          "duration": 0.07551,
          "end_time": "2022-04-17T02:58:27.094981",
          "exception": false,
          "start_time": "2022-04-17T02:58:27.019471",
          "status": "completed"
        },
        "tags": [],
        "id": "2aedf9da"
      },
      "outputs": [],
      "source": [
        "from sklearn.model_selection import train_test_split\n",
        "from sklearn.feature_extraction.text import TfidfVectorizer"
      ]
    },
    {
      "cell_type": "code",
      "execution_count": null,
      "id": "7c741be3",
      "metadata": {
        "execution": {
          "iopub.execute_input": "2022-04-17T02:58:27.237872Z",
          "iopub.status.busy": "2022-04-17T02:58:27.237224Z",
          "iopub.status.idle": "2022-04-17T02:58:27.238892Z",
          "shell.execute_reply": "2022-04-17T02:58:27.239458Z",
          "shell.execute_reply.started": "2022-04-16T09:38:15.801072Z"
        },
        "papermill": {
          "duration": 0.074998,
          "end_time": "2022-04-17T02:58:27.239626",
          "exception": false,
          "start_time": "2022-04-17T02:58:27.164628",
          "status": "completed"
        },
        "tags": [],
        "id": "7c741be3"
      },
      "outputs": [],
      "source": [
        "X = df['cleaned_text']  # Feature (raw data)\n",
        "y = df['cyberbullying_type']  # Target Label"
      ]
    },
    {
      "cell_type": "code",
      "execution_count": null,
      "id": "ac09a008",
      "metadata": {
        "execution": {
          "iopub.execute_input": "2022-04-17T02:58:27.380007Z",
          "iopub.status.busy": "2022-04-17T02:58:27.379372Z",
          "iopub.status.idle": "2022-04-17T02:58:27.389260Z",
          "shell.execute_reply": "2022-04-17T02:58:27.389766Z",
          "shell.execute_reply.started": "2022-04-16T09:38:15.809743Z"
        },
        "papermill": {
          "duration": 0.081516,
          "end_time": "2022-04-17T02:58:27.389929",
          "exception": false,
          "start_time": "2022-04-17T02:58:27.308413",
          "status": "completed"
        },
        "tags": [],
        "id": "ac09a008"
      },
      "outputs": [],
      "source": [
        "X_train, X_test, y_train, y_test = train_test_split(X, y, test_size = 0.1, random_state = 42)\n",
        "# Performing the train|test split. This test set is essentially a hold out test set as we'll be performing Cross Validation\n",
        "# using Grid Search which will split our training data into a training and validation split"
      ]
    },
    {
      "cell_type": "code",
      "execution_count": null,
      "id": "822f7405",
      "metadata": {
        "execution": {
          "iopub.execute_input": "2022-04-17T02:58:27.532846Z",
          "iopub.status.busy": "2022-04-17T02:58:27.531197Z",
          "iopub.status.idle": "2022-04-17T02:58:27.534813Z",
          "shell.execute_reply": "2022-04-17T02:58:27.535391Z",
          "shell.execute_reply.started": "2022-04-16T09:38:15.826463Z"
        },
        "papermill": {
          "duration": 0.077435,
          "end_time": "2022-04-17T02:58:27.535586",
          "exception": false,
          "start_time": "2022-04-17T02:58:27.458151",
          "status": "completed"
        },
        "tags": [],
        "id": "822f7405"
      },
      "outputs": [],
      "source": [
        "tfidf = TfidfVectorizer(max_features = 5000)  # Using the TF - IDF Vectorizer to extract top 5000 most important features\n",
        "# from the text data"
      ]
    },
    {
      "cell_type": "code",
      "execution_count": null,
      "id": "c444aa2e",
      "metadata": {
        "execution": {
          "iopub.execute_input": "2022-04-17T02:58:27.678804Z",
          "iopub.status.busy": "2022-04-17T02:58:27.678120Z",
          "iopub.status.idle": "2022-04-17T02:58:28.584647Z",
          "shell.execute_reply": "2022-04-17T02:58:28.585164Z",
          "shell.execute_reply.started": "2022-04-16T09:38:15.831692Z"
        },
        "papermill": {
          "duration": 0.979479,
          "end_time": "2022-04-17T02:58:28.585369",
          "exception": false,
          "start_time": "2022-04-17T02:58:27.605890",
          "status": "completed"
        },
        "tags": [],
        "id": "c444aa2e"
      },
      "outputs": [],
      "source": [
        "# Feature Extraction\n",
        "X_train_tfidf = tfidf.fit_transform(X_train)  # Creating the vocabulary only from the training set to avoid data leakage from\n",
        "X_test_tfidf = tfidf.transform(X_test)        # the test set."
      ]
    },
    {
      "cell_type": "code",
      "execution_count": null,
      "id": "7d30d0f5",
      "metadata": {
        "execution": {
          "iopub.execute_input": "2022-04-17T02:58:28.726865Z",
          "iopub.status.busy": "2022-04-17T02:58:28.725872Z",
          "iopub.status.idle": "2022-04-17T02:58:28.731119Z",
          "shell.execute_reply": "2022-04-17T02:58:28.731655Z",
          "shell.execute_reply.started": "2022-04-16T09:38:16.481792Z"
        },
        "papermill": {
          "duration": 0.078039,
          "end_time": "2022-04-17T02:58:28.731821",
          "exception": false,
          "start_time": "2022-04-17T02:58:28.653782",
          "status": "completed"
        },
        "tags": [],
        "id": "7d30d0f5"
      },
      "outputs": [],
      "source": [
        "X_train_tfidf  # Sparse Matrix is created to save memory since many values are close to 0"
      ]
    },
    {
      "cell_type": "code",
      "execution_count": null,
      "id": "89dab3ba",
      "metadata": {
        "execution": {
          "iopub.execute_input": "2022-04-17T02:58:28.874321Z",
          "iopub.status.busy": "2022-04-17T02:58:28.873709Z",
          "iopub.status.idle": "2022-04-17T02:58:28.878505Z",
          "shell.execute_reply": "2022-04-17T02:58:28.879017Z",
          "shell.execute_reply.started": "2022-04-16T09:38:16.489812Z"
        },
        "papermill": {
          "duration": 0.077245,
          "end_time": "2022-04-17T02:58:28.879167",
          "exception": false,
          "start_time": "2022-04-17T02:58:28.801922",
          "status": "completed"
        },
        "tags": [],
        "id": "89dab3ba"
      },
      "outputs": [],
      "source": [
        "X_test_tfidf  # Sparse Matrix"
      ]
    },
    {
      "cell_type": "code",
      "execution_count": null,
      "id": "e7e1002f",
      "metadata": {
        "execution": {
          "iopub.execute_input": "2022-04-17T02:58:29.024653Z",
          "iopub.status.busy": "2022-04-17T02:58:29.023933Z",
          "iopub.status.idle": "2022-04-17T02:58:33.297708Z",
          "shell.execute_reply": "2022-04-17T02:58:33.297149Z",
          "shell.execute_reply.started": "2022-04-16T09:38:16.500346Z"
        },
        "papermill": {
          "duration": 4.347155,
          "end_time": "2022-04-17T02:58:33.297855",
          "exception": false,
          "start_time": "2022-04-17T02:58:28.950700",
          "status": "completed"
        },
        "tags": [],
        "id": "e7e1002f"
      },
      "outputs": [],
      "source": [
        "from sklearn.preprocessing import StandardScaler\n",
        "scaler = StandardScaler()\n",
        "tfidf_array_train = X_train_tfidf.toarray()   # Converting the sparse matrix to a numpy array (dense matrix)\n",
        "tfidf_array_test = X_test_tfidf.toarray()     # Converting the sparse matrix to a numpy array (dense matrix)\n",
        "scaled_X_train = scaler.fit_transform(tfidf_array_train)  # Fitting on only training data to avoid data leakage from test data\n",
        "scaled_X_test = scaler.transform(tfidf_array_test) # and then tranforming both training and testing data"
      ]
    },
    {
      "cell_type": "code",
      "execution_count": null,
      "id": "c79060ff",
      "metadata": {
        "execution": {
          "iopub.execute_input": "2022-04-17T02:58:33.443357Z",
          "iopub.status.busy": "2022-04-17T02:58:33.442556Z",
          "iopub.status.idle": "2022-04-17T03:01:29.868241Z",
          "shell.execute_reply": "2022-04-17T03:01:29.867570Z",
          "shell.execute_reply.started": "2022-04-16T09:38:20.729375Z"
        },
        "papermill": {
          "duration": 176.499972,
          "end_time": "2022-04-17T03:01:29.868422",
          "exception": false,
          "start_time": "2022-04-17T02:58:33.368450",
          "status": "completed"
        },
        "tags": [],
        "id": "c79060ff"
      },
      "outputs": [],
      "source": [
        "# Performing Dimensionality Reduction using Principal Component Analysis\n",
        "from sklearn.decomposition import PCA\n",
        "NUM_COMPONENTS = 5000\n",
        "pca = PCA(NUM_COMPONENTS)\n",
        "reduced = pca.fit(scaled_X_train)"
      ]
    },
    {
      "cell_type": "code",
      "execution_count": null,
      "id": "30a5bea8",
      "metadata": {
        "execution": {
          "iopub.execute_input": "2022-04-17T03:01:30.015790Z",
          "iopub.status.busy": "2022-04-17T03:01:30.014987Z",
          "iopub.status.idle": "2022-04-17T03:01:30.018358Z",
          "shell.execute_reply": "2022-04-17T03:01:30.017698Z",
          "shell.execute_reply.started": "2022-04-16T09:41:08.710427Z"
        },
        "papermill": {
          "duration": 0.077708,
          "end_time": "2022-04-17T03:01:30.018499",
          "exception": false,
          "start_time": "2022-04-17T03:01:29.940791",
          "status": "completed"
        },
        "tags": [],
        "id": "30a5bea8"
      },
      "outputs": [],
      "source": [
        "variance_explained = np.cumsum(pca.explained_variance_ratio_)  # Calculating the cumulative explained variance by the components"
      ]
    },
    {
      "cell_type": "code",
      "execution_count": null,
      "id": "83d33317",
      "metadata": {
        "execution": {
          "iopub.execute_input": "2022-04-17T03:01:30.177262Z",
          "iopub.status.busy": "2022-04-17T03:01:30.176093Z",
          "iopub.status.idle": "2022-04-17T03:01:30.384278Z",
          "shell.execute_reply": "2022-04-17T03:01:30.383565Z",
          "shell.execute_reply.started": "2022-04-16T09:41:08.718149Z"
        },
        "papermill": {
          "duration": 0.294303,
          "end_time": "2022-04-17T03:01:30.384430",
          "exception": false,
          "start_time": "2022-04-17T03:01:30.090127",
          "status": "completed"
        },
        "tags": [],
        "id": "83d33317"
      },
      "outputs": [],
      "source": [
        "# Plotting\n",
        "fig, ax = plt.subplots(figsize=(8, 6))\n",
        "plt.plot(range(NUM_COMPONENTS),variance_explained, color='r')\n",
        "ax.grid(True)\n",
        "plt.xlabel(\"Number of components\")\n",
        "plt.ylabel(\"Cumulative explained variance\")"
      ]
    },
    {
      "cell_type": "code",
      "execution_count": null,
      "id": "f0467631",
      "metadata": {
        "execution": {
          "iopub.execute_input": "2022-04-17T03:01:30.533784Z",
          "iopub.status.busy": "2022-04-17T03:01:30.532783Z",
          "iopub.status.idle": "2022-04-17T03:04:30.582002Z",
          "shell.execute_reply": "2022-04-17T03:04:30.580874Z",
          "shell.execute_reply.started": "2022-04-16T09:41:08.950701Z"
        },
        "papermill": {
          "duration": 180.126243,
          "end_time": "2022-04-17T03:04:30.582346",
          "exception": false,
          "start_time": "2022-04-17T03:01:30.456103",
          "status": "completed"
        },
        "tags": [],
        "id": "f0467631"
      },
      "outputs": [],
      "source": [
        "final_pca = PCA(0.9)\n",
        "reduced_90 = final_pca.fit_transform(scaled_X_train) # Number of Components explaining 90% variance in the training data"
      ]
    },
    {
      "cell_type": "code",
      "execution_count": null,
      "id": "c0970fc7",
      "metadata": {
        "execution": {
          "iopub.execute_input": "2022-04-17T03:04:30.736976Z",
          "iopub.status.busy": "2022-04-17T03:04:30.735739Z",
          "iopub.status.idle": "2022-04-17T03:04:33.881778Z",
          "shell.execute_reply": "2022-04-17T03:04:33.882742Z",
          "shell.execute_reply.started": "2022-04-16T09:43:59.552418Z"
        },
        "papermill": {
          "duration": 3.224708,
          "end_time": "2022-04-17T03:04:33.883019",
          "exception": false,
          "start_time": "2022-04-17T03:04:30.658311",
          "status": "completed"
        },
        "tags": [],
        "id": "c0970fc7"
      },
      "outputs": [],
      "source": [
        "reduced_90_test = final_pca.transform(scaled_X_test)"
      ]
    },
    {
      "cell_type": "code",
      "execution_count": null,
      "id": "43464f61",
      "metadata": {
        "execution": {
          "iopub.execute_input": "2022-04-17T03:04:34.080437Z",
          "iopub.status.busy": "2022-04-17T03:04:34.079564Z",
          "iopub.status.idle": "2022-04-17T03:04:34.082998Z",
          "shell.execute_reply": "2022-04-17T03:04:34.083497Z",
          "shell.execute_reply.started": "2022-04-16T09:44:01.896426Z"
        },
        "papermill": {
          "duration": 0.081865,
          "end_time": "2022-04-17T03:04:34.083668",
          "exception": false,
          "start_time": "2022-04-17T03:04:34.001803",
          "status": "completed"
        },
        "tags": [],
        "id": "43464f61"
      },
      "outputs": [],
      "source": [
        "reduced_90.shape"
      ]
    },
    {
      "cell_type": "code",
      "execution_count": null,
      "id": "b03c843e",
      "metadata": {
        "execution": {
          "iopub.execute_input": "2022-04-17T03:04:34.386072Z",
          "iopub.status.busy": "2022-04-17T03:04:34.384791Z",
          "iopub.status.idle": "2022-04-17T03:07:30.529183Z",
          "shell.execute_reply": "2022-04-17T03:07:30.528586Z",
          "shell.execute_reply.started": "2022-04-16T09:44:01.9086Z"
        },
        "papermill": {
          "duration": 176.222054,
          "end_time": "2022-04-17T03:07:30.529375",
          "exception": false,
          "start_time": "2022-04-17T03:04:34.307321",
          "status": "completed"
        },
        "tags": [],
        "id": "b03c843e"
      },
      "outputs": [],
      "source": [
        "final_pca = PCA(0.8)\n",
        "reduced_80 = final_pca.fit_transform(scaled_X_train) # Number of Components explaining 80% variance in the training data"
      ]
    },
    {
      "cell_type": "code",
      "execution_count": null,
      "id": "947ff81e",
      "metadata": {
        "execution": {
          "iopub.execute_input": "2022-04-17T03:07:30.677174Z",
          "iopub.status.busy": "2022-04-17T03:07:30.676206Z",
          "iopub.status.idle": "2022-04-17T03:07:30.681640Z",
          "shell.execute_reply": "2022-04-17T03:07:30.682201Z",
          "shell.execute_reply.started": "2022-04-16T09:46:50.08984Z"
        },
        "papermill": {
          "duration": 0.0802,
          "end_time": "2022-04-17T03:07:30.682395",
          "exception": false,
          "start_time": "2022-04-17T03:07:30.602195",
          "status": "completed"
        },
        "tags": [],
        "id": "947ff81e"
      },
      "outputs": [],
      "source": [
        "reduced_80.shape"
      ]
    },
    {
      "cell_type": "markdown",
      "id": "9e61e97e",
      "metadata": {
        "papermill": {
          "duration": 0.073146,
          "end_time": "2022-04-17T03:07:30.969850",
          "exception": false,
          "start_time": "2022-04-17T03:07:30.896704",
          "status": "completed"
        },
        "tags": [],
        "id": "9e61e97e"
      },
      "source": [
        "## Model Training"
      ]
    },
    {
      "cell_type": "code",
      "execution_count": null,
      "id": "0cbbdbd9",
      "metadata": {
        "execution": {
          "iopub.execute_input": "2022-04-17T03:07:31.119252Z",
          "iopub.status.busy": "2022-04-17T03:07:31.118266Z",
          "iopub.status.idle": "2022-04-17T03:07:31.122004Z",
          "shell.execute_reply": "2022-04-17T03:07:31.122572Z",
          "shell.execute_reply.started": "2022-04-16T09:46:50.098276Z"
        },
        "papermill": {
          "duration": 0.080312,
          "end_time": "2022-04-17T03:07:31.122728",
          "exception": false,
          "start_time": "2022-04-17T03:07:31.042416",
          "status": "completed"
        },
        "tags": [],
        "id": "0cbbdbd9"
      },
      "outputs": [],
      "source": [
        "from sklearn.metrics import plot_confusion_matrix, classification_report"
      ]
    },
    {
      "cell_type": "code",
      "execution_count": null,
      "id": "5856885e",
      "metadata": {
        "execution": {
          "iopub.execute_input": "2022-04-17T03:07:31.292681Z",
          "iopub.status.busy": "2022-04-17T03:07:31.291771Z",
          "iopub.status.idle": "2022-04-17T03:08:31.890030Z",
          "shell.execute_reply": "2022-04-17T03:08:31.890545Z",
          "shell.execute_reply.started": "2022-04-16T13:53:33.647639Z"
        },
        "papermill": {
          "duration": 60.6878,
          "end_time": "2022-04-17T03:08:31.890710",
          "exception": false,
          "start_time": "2022-04-17T03:07:31.202910",
          "status": "completed"
        },
        "tags": [],
        "id": "5856885e"
      },
      "outputs": [],
      "source": [
        "# LOGISTIC REGRESSION with the the 90% variance data\n",
        "from sklearn.linear_model import LogisticRegression\n",
        "log_model_pca = LogisticRegression()\n",
        "log_model_pca.fit(reduced_90, y_train)\n",
        "preds_log_model_pca = log_model_pca.predict(reduced_90_test)\n",
        "print(classification_report(y_test, preds_log_model_pca))\n",
        "plot_confusion_matrix(log_model_pca, reduced_90_test, y_test)"
      ]
    },
    {
      "cell_type": "code",
      "execution_count": null,
      "id": "3004e872",
      "metadata": {
        "execution": {
          "iopub.execute_input": "2022-04-17T03:08:32.045375Z",
          "iopub.status.busy": "2022-04-17T03:08:32.044682Z",
          "iopub.status.idle": "2022-04-17T03:08:51.197010Z",
          "shell.execute_reply": "2022-04-17T03:08:51.196360Z",
          "shell.execute_reply.started": "2022-04-16T09:46:50.111638Z"
        },
        "papermill": {
          "duration": 19.232845,
          "end_time": "2022-04-17T03:08:51.197149",
          "exception": false,
          "start_time": "2022-04-17T03:08:31.964304",
          "status": "completed"
        },
        "tags": [],
        "id": "3004e872"
      },
      "outputs": [],
      "source": [
        "# LOGISTIC REGRESSION with the complete data\n",
        "from sklearn.experimental import enable_halving_search_cv\n",
        "from sklearn.model_selection import HalvingGridSearchCV\n",
        "log_model = LogisticRegression(solver = 'saga')\n",
        "param_grid = {'C': np.logspace(0, 10, 5)}\n",
        "grid_log_model = HalvingGridSearchCV(log_model, param_grid = param_grid, n_jobs = -1, min_resources = 'exhaust', factor = 3)\n",
        "grid_log_model.fit(X_train_tfidf, y_train)\n",
        "preds_grid_log_model = grid_log_model.predict(X_test_tfidf)\n",
        "print(classification_report(y_test, preds_grid_log_model))\n",
        "plot_confusion_matrix(grid_log_model, X_test_tfidf, y_test)"
      ]
    },
    {
      "cell_type": "code",
      "execution_count": null,
      "id": "5e8674ad",
      "metadata": {
        "execution": {
          "iopub.execute_input": "2022-04-17T03:08:51.357421Z",
          "iopub.status.busy": "2022-04-17T03:08:51.356768Z",
          "iopub.status.idle": "2022-04-17T03:08:51.362120Z",
          "shell.execute_reply": "2022-04-17T03:08:51.362614Z",
          "shell.execute_reply.started": "2022-04-16T09:47:10.748396Z"
        },
        "papermill": {
          "duration": 0.088637,
          "end_time": "2022-04-17T03:08:51.362786",
          "exception": false,
          "start_time": "2022-04-17T03:08:51.274149",
          "status": "completed"
        },
        "tags": [],
        "id": "5e8674ad"
      },
      "outputs": [],
      "source": [
        "grid_log_model.best_estimator_ # C = 1"
      ]
    },
    {
      "cell_type": "code",
      "execution_count": null,
      "id": "8507d3f6",
      "metadata": {
        "execution": {
          "iopub.execute_input": "2022-04-17T03:08:51.521827Z",
          "iopub.status.busy": "2022-04-17T03:08:51.521106Z",
          "iopub.status.idle": "2022-04-17T03:08:55.398933Z",
          "shell.execute_reply": "2022-04-17T03:08:55.398418Z",
          "shell.execute_reply.started": "2022-04-16T10:52:33.333418Z"
        },
        "papermill": {
          "duration": 3.959386,
          "end_time": "2022-04-17T03:08:55.399080",
          "exception": false,
          "start_time": "2022-04-17T03:08:51.439694",
          "status": "completed"
        },
        "tags": [],
        "id": "8507d3f6"
      },
      "outputs": [],
      "source": [
        "# SUPPORT VECTOR MACHINES\n",
        "from sklearn.svm import LinearSVC\n",
        "svm_model = LinearSVC()\n",
        "C = [1e-5, 1e-4, 1e-2, 1e-1, 1]\n",
        "param_grid = {'C': C}\n",
        "grid_svm_model = HalvingGridSearchCV(svm_model, param_grid = param_grid, n_jobs = -1, min_resources = 'exhaust', factor = 3)\n",
        "grid_svm_model.fit(X_train_tfidf, y_train)\n",
        "preds_grid_svm_model = grid_svm_model.predict(X_test_tfidf)\n",
        "print(classification_report(y_test, preds_grid_svm_model))\n",
        "plot_confusion_matrix(grid_svm_model, X_test_tfidf, y_test)"
      ]
    },
    {
      "cell_type": "code",
      "execution_count": null,
      "id": "65837ba1",
      "metadata": {
        "execution": {
          "iopub.execute_input": "2022-04-17T03:08:55.560189Z",
          "iopub.status.busy": "2022-04-17T03:08:55.559487Z",
          "iopub.status.idle": "2022-04-17T03:08:55.563915Z",
          "shell.execute_reply": "2022-04-17T03:08:55.564532Z",
          "shell.execute_reply.started": "2022-04-16T10:52:39.02894Z"
        },
        "papermill": {
          "duration": 0.086655,
          "end_time": "2022-04-17T03:08:55.564706",
          "exception": false,
          "start_time": "2022-04-17T03:08:55.478051",
          "status": "completed"
        },
        "tags": [],
        "id": "65837ba1"
      },
      "outputs": [],
      "source": [
        "grid_svm_model.best_estimator_"
      ]
    },
    {
      "cell_type": "code",
      "execution_count": null,
      "id": "71761ab9",
      "metadata": {
        "execution": {
          "iopub.execute_input": "2022-04-17T03:08:55.726208Z",
          "iopub.status.busy": "2022-04-17T03:08:55.725582Z",
          "iopub.status.idle": "2022-04-17T03:11:28.390644Z",
          "shell.execute_reply": "2022-04-17T03:11:28.391124Z",
          "shell.execute_reply.started": "2022-04-16T10:52:39.037665Z"
        },
        "papermill": {
          "duration": 152.746314,
          "end_time": "2022-04-17T03:11:28.391332",
          "exception": false,
          "start_time": "2022-04-17T03:08:55.645018",
          "status": "completed"
        },
        "tags": [],
        "id": "71761ab9"
      },
      "outputs": [],
      "source": [
        "# NEURAL NETWORKS\n",
        "from sklearn.neural_network import MLPClassifier\n",
        "nn_model = MLPClassifier(activation = 'logistic', max_iter = 10)  # Sigmoid Activation Function\n",
        "param_grid = {'learning_rate_init': [0.001, 0.0015, 0.002, 0.0025]}\n",
        "grid_nn_model = HalvingGridSearchCV(nn_model, param_grid = param_grid, n_jobs = -1, min_resources = 'exhaust', factor = 3)\n",
        "grid_nn_model.fit(X_train_tfidf, y_train)\n",
        "preds_grid_nn_model = grid_nn_model.predict(X_test_tfidf)\n",
        "print(classification_report(y_test, preds_grid_nn_model))\n",
        "plot_confusion_matrix(grid_nn_model, X_test_tfidf, y_test)"
      ]
    },
    {
      "cell_type": "code",
      "execution_count": null,
      "id": "233824f3",
      "metadata": {
        "execution": {
          "iopub.execute_input": "2022-04-17T03:11:28.559544Z",
          "iopub.status.busy": "2022-04-17T03:11:28.558716Z",
          "iopub.status.idle": "2022-04-17T03:11:28.561694Z",
          "shell.execute_reply": "2022-04-17T03:11:28.562188Z",
          "shell.execute_reply.started": "2022-04-16T10:55:19.396241Z"
        },
        "papermill": {
          "duration": 0.090271,
          "end_time": "2022-04-17T03:11:28.562371",
          "exception": false,
          "start_time": "2022-04-17T03:11:28.472100",
          "status": "completed"
        },
        "tags": [],
        "id": "233824f3"
      },
      "outputs": [],
      "source": [
        "grid_nn_model.best_estimator_"
      ]
    },
    {
      "cell_type": "code",
      "execution_count": null,
      "id": "558f13f2",
      "metadata": {
        "execution": {
          "iopub.execute_input": "2022-04-17T03:11:28.733026Z",
          "iopub.status.busy": "2022-04-17T03:11:28.732378Z",
          "iopub.status.idle": "2022-04-17T03:15:59.132604Z",
          "shell.execute_reply": "2022-04-17T03:15:59.133101Z",
          "shell.execute_reply.started": "2022-04-16T12:05:03.654809Z"
        },
        "papermill": {
          "duration": 270.48994,
          "end_time": "2022-04-17T03:15:59.133293",
          "exception": false,
          "start_time": "2022-04-17T03:11:28.643353",
          "status": "completed"
        },
        "tags": [],
        "id": "558f13f2"
      },
      "outputs": [],
      "source": [
        "# RANDOM FORESTS\n",
        "from sklearn.ensemble import RandomForestClassifier\n",
        "rf_model = RandomForestClassifier(random_state = 42)\n",
        "n_estimators = [64, 100, 128]\n",
        "bootstrap = [True, False] # Bootstrapping is true by default\n",
        "param_grid = {'n_estimators': n_estimators, 'bootstrap': bootstrap}\n",
        "grid_rf_model = HalvingGridSearchCV(rf_model, param_grid = param_grid, n_jobs = -1, min_resources = 'exhaust', factor = 3)\n",
        "grid_rf_model.fit(X_train_tfidf, y_train)\n",
        "preds_grid_rf_model = grid_rf_model.predict(X_test_tfidf)\n",
        "print(classification_report(y_test, preds_grid_rf_model))\n",
        "plot_confusion_matrix(grid_rf_model, X_test_tfidf, y_test)"
      ]
    },
    {
      "cell_type": "code",
      "execution_count": null,
      "id": "f7e821a2",
      "metadata": {
        "execution": {
          "iopub.execute_input": "2022-04-17T03:15:59.303115Z",
          "iopub.status.busy": "2022-04-17T03:15:59.302456Z",
          "iopub.status.idle": "2022-04-17T03:15:59.307087Z",
          "shell.execute_reply": "2022-04-17T03:15:59.307697Z",
          "shell.execute_reply.started": "2022-04-16T12:10:40.006373Z"
        },
        "papermill": {
          "duration": 0.091314,
          "end_time": "2022-04-17T03:15:59.307866",
          "exception": false,
          "start_time": "2022-04-17T03:15:59.216552",
          "status": "completed"
        },
        "tags": [],
        "id": "f7e821a2"
      },
      "outputs": [],
      "source": [
        "grid_rf_model.best_estimator_"
      ]
    },
    {
      "cell_type": "code",
      "execution_count": null,
      "id": "3c06e840",
      "metadata": {
        "execution": {
          "iopub.execute_input": "2022-04-17T03:27:32.557116Z",
          "iopub.status.busy": "2022-04-17T03:27:32.556167Z",
          "iopub.status.idle": "2022-04-17T03:27:33.208378Z",
          "shell.execute_reply": "2022-04-17T03:27:33.208850Z",
          "shell.execute_reply.started": "2022-04-16T11:14:04.047404Z"
        },
        "papermill": {
          "duration": 0.742406,
          "end_time": "2022-04-17T03:27:33.209027",
          "exception": false,
          "start_time": "2022-04-17T03:27:32.466621",
          "status": "completed"
        },
        "tags": [],
        "id": "3c06e840"
      },
      "outputs": [],
      "source": [
        "# NAIVE - BAYES\n",
        "from sklearn.naive_bayes import MultinomialNB\n",
        "nb_model = MultinomialNB()\n",
        "nb_model.fit(X_train_tfidf, y_train)\n",
        "preds_nb_model = nb_model.predict(X_test_tfidf)\n",
        "print(classification_report(y_test, preds_nb_model))\n",
        "plot_confusion_matrix(nb_model, X_test_tfidf, y_test)"
      ]
    },
    {
      "cell_type": "markdown",
      "id": "a2788fd3",
      "metadata": {
        "papermill": {
          "duration": 0.087475,
          "end_time": "2022-04-17T03:27:33.561167",
          "exception": false,
          "start_time": "2022-04-17T03:27:33.473692",
          "status": "completed"
        },
        "tags": [],
        "id": "a2788fd3"
      },
      "source": [
        "## Pipeline Creation"
      ]
    },
    {
      "cell_type": "code",
      "execution_count": null,
      "id": "f45dd766",
      "metadata": {
        "_kg_hide-output": true,
        "execution": {
          "iopub.execute_input": "2022-04-17T03:27:33.741577Z",
          "iopub.status.busy": "2022-04-17T03:27:33.740604Z",
          "iopub.status.idle": "2022-04-17T03:28:22.475406Z",
          "shell.execute_reply": "2022-04-17T03:28:22.475936Z",
          "shell.execute_reply.started": "2022-04-16T12:11:09.030389Z"
        },
        "papermill": {
          "duration": 48.826768,
          "end_time": "2022-04-17T03:28:22.476105",
          "exception": false,
          "start_time": "2022-04-17T03:27:33.649337",
          "status": "completed"
        },
        "tags": [],
        "id": "f45dd766"
      },
      "outputs": [],
      "source": [
        "# Creating a pipeline\n",
        "from sklearn.pipeline import Pipeline\n",
        "pipe = Pipeline([('tfidf', TfidfVectorizer(max_features = 5000)), ('rf_model', RandomForestClassifier(n_estimators = 128, random_state = 42))])\n",
        "pipe.fit(X, y)"
      ]
    },
    {
      "cell_type": "code",
      "execution_count": null,
      "id": "d60f58b6",
      "metadata": {
        "execution": {
          "iopub.execute_input": "2022-04-17T03:28:22.657924Z",
          "iopub.status.busy": "2022-04-17T03:28:22.656924Z",
          "iopub.status.idle": "2022-04-17T03:28:22.679443Z",
          "shell.execute_reply": "2022-04-17T03:28:22.678930Z",
          "shell.execute_reply.started": "2022-04-16T12:11:53.550197Z"
        },
        "papermill": {
          "duration": 0.11441,
          "end_time": "2022-04-17T03:28:22.679597",
          "exception": false,
          "start_time": "2022-04-17T03:28:22.565187",
          "status": "completed"
        },
        "tags": [],
        "id": "d60f58b6"
      },
      "outputs": [],
      "source": [
        "pipe.predict([\"@abc Hey man! Great match today. Your smashes were spot on. Let's continue playing together. \\\n",
        "               #badminton #brotherhood #men #doubles\"])"
      ]
    },
    {
      "cell_type": "code",
      "execution_count": null,
      "id": "086e2197",
      "metadata": {
        "execution": {
          "iopub.execute_input": "2022-04-17T03:28:23.050152Z",
          "iopub.status.busy": "2022-04-17T03:28:23.049131Z",
          "iopub.status.idle": "2022-04-17T03:28:23.068634Z",
          "shell.execute_reply": "2022-04-17T03:28:23.069095Z",
          "shell.execute_reply.started": "2022-04-16T12:11:58.978977Z"
        },
        "papermill": {
          "duration": 0.117818,
          "end_time": "2022-04-17T03:28:23.069291",
          "exception": false,
          "start_time": "2022-04-17T03:28:22.951473",
          "status": "completed"
        },
        "tags": [],
        "id": "086e2197"
      },
      "outputs": [],
      "source": [
        "pipe.predict([\"Going to Africa. Hope I don't get AIDS. Just kidding. I'm white!\"])"
      ]
    },
    {
      "cell_type": "code",
      "execution_count": null,
      "id": "ded4e2c5",
      "metadata": {
        "execution": {
          "iopub.execute_input": "2022-04-17T03:28:23.256573Z",
          "iopub.status.busy": "2022-04-17T03:28:23.255918Z",
          "iopub.status.idle": "2022-04-17T03:28:23.272993Z",
          "shell.execute_reply": "2022-04-17T03:28:23.273580Z",
          "shell.execute_reply.started": "2022-04-16T12:12:03.195487Z"
        },
        "papermill": {
          "duration": 0.113163,
          "end_time": "2022-04-17T03:28:23.273760",
          "exception": false,
          "start_time": "2022-04-17T03:28:23.160597",
          "status": "completed"
        },
        "tags": [],
        "id": "ded4e2c5"
      },
      "outputs": [],
      "source": [
        "pipe.predict([\"Muslims should be punished. We are not doing enough to rid us of those filthy animals.\"])"
      ]
    },
    {
      "cell_type": "code",
      "execution_count": null,
      "id": "fa16935e",
      "metadata": {
        "execution": {
          "iopub.execute_input": "2022-04-17T03:28:23.457829Z",
          "iopub.status.busy": "2022-04-17T03:28:23.457131Z",
          "iopub.status.idle": "2022-04-17T03:28:23.477309Z",
          "shell.execute_reply": "2022-04-17T03:28:23.477908Z",
          "shell.execute_reply.started": "2022-04-16T12:12:04.929148Z"
        },
        "papermill": {
          "duration": 0.11421,
          "end_time": "2022-04-17T03:28:23.478074",
          "exception": false,
          "start_time": "2022-04-17T03:28:23.363864",
          "status": "completed"
        },
        "tags": [],
        "id": "fa16935e"
      },
      "outputs": [],
      "source": [
        "pipe.predict([\"@abc Man you don't have any facial hair. You look like a fucking 9 year old school boy! #clown #idiot\"])"
      ]
    },
    {
      "cell_type": "code",
      "execution_count": null,
      "id": "0aa2c43e",
      "metadata": {
        "execution": {
          "iopub.execute_input": "2022-04-17T03:28:23.662556Z",
          "iopub.status.busy": "2022-04-17T03:28:23.661890Z",
          "iopub.status.idle": "2022-04-17T03:28:23.683432Z",
          "shell.execute_reply": "2022-04-17T03:28:23.682907Z",
          "shell.execute_reply.started": "2022-04-16T12:50:58.322733Z"
        },
        "papermill": {
          "duration": 0.114775,
          "end_time": "2022-04-17T03:28:23.683576",
          "exception": false,
          "start_time": "2022-04-17T03:28:23.568801",
          "status": "completed"
        },
        "tags": [],
        "id": "0aa2c43e"
      },
      "outputs": [],
      "source": [
        "pipe.predict([\"@abc shut up gay boy\"])"
      ]
    }
  ],
  "metadata": {
    "kernelspec": {
      "display_name": "Python 3 (ipykernel)",
      "language": "python",
      "name": "python3"
    },
    "language_info": {
      "codemirror_mode": {
        "name": "ipython",
        "version": 3
      },
      "file_extension": ".py",
      "mimetype": "text/x-python",
      "name": "python",
      "nbconvert_exporter": "python",
      "pygments_lexer": "ipython3",
      "version": "3.10.4"
    },
    "papermill": {
      "default_parameters": {},
      "duration": 1868.418096,
      "end_time": "2022-04-17T03:28:25.096170",
      "environment_variables": {},
      "exception": null,
      "input_path": "__notebook__.ipynb",
      "output_path": "__notebook__.ipynb",
      "parameters": {},
      "start_time": "2022-04-17T02:57:16.678074",
      "version": "2.3.3"
    },
    "colab": {
      "provenance": []
    }
  },
  "nbformat": 4,
  "nbformat_minor": 5
}